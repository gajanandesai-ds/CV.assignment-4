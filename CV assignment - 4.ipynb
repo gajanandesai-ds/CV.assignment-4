{
 "cells": [
  {
   "cell_type": "raw",
   "id": "97c80ac6",
   "metadata": {},
   "source": [
    "1. What is the concept of cyclical momentum?"
   ]
  },
  {
   "cell_type": "raw",
   "id": "241d0754",
   "metadata": {},
   "source": [
    "ans:Cyclical momentum is a concept in computer vision that refers to the idea of using momentum from a previously successful model to help guide the development of a new model. This can help to ensure that the new model is built on the successes of the past and also makes it easier to quickly iterate on and improve existing models. Cyclical momentum can help to speed up the development process and provide more accurate results."
   ]
  },
  {
   "cell_type": "code",
   "execution_count": null,
   "id": "ae81e930",
   "metadata": {},
   "outputs": [],
   "source": []
  },
  {
   "cell_type": "raw",
   "id": "2e8e9b4a",
   "metadata": {},
   "source": [
    "2. What callback keeps track of hyperparameter values (along with other data) during\n",
    "training?"
   ]
  },
  {
   "cell_type": "raw",
   "id": "4659a818",
   "metadata": {},
   "source": [
    "ans:The ModelCheckpoint callback is used to keep track of hyperparameter values (along with other data) during training. This callback is used to save the model's weights and other data at the end of each epoch, allowing the user to track the model's performance over time."
   ]
  },
  {
   "cell_type": "code",
   "execution_count": null,
   "id": "1377b17e",
   "metadata": {},
   "outputs": [],
   "source": []
  },
  {
   "cell_type": "raw",
   "id": "543dcfc3",
   "metadata": {},
   "source": [
    "3. In the color dim plot, what does one column of pixels represent?"
   ]
  },
  {
   "cell_type": "raw",
   "id": "5406f93d",
   "metadata": {},
   "source": [
    "ans:One column of pixels in a color dim plot represents the relative values of the three color channels (red, green, and blue) for each pixel in the original image."
   ]
  },
  {
   "cell_type": "code",
   "execution_count": null,
   "id": "e5ed4572",
   "metadata": {},
   "outputs": [],
   "source": []
  },
  {
   "cell_type": "raw",
   "id": "209da60a",
   "metadata": {},
   "source": [
    "4. In color dim, what does &quot;poor teaching&quot; look like? What is the reason for this?"
   ]
  },
  {
   "cell_type": "raw",
   "id": "da7beaa4",
   "metadata": {},
   "source": [
    "ans:n color dim, poor teaching can look like providing a large amount of data with too little labels or annotation. This can lead to overfitting where the model only learns the data it is provided, and is not able to generalize to new data. This is a common problem in computer vision because of the large, complex datasets that are used to train these models."
   ]
  },
  {
   "cell_type": "code",
   "execution_count": null,
   "id": "7b5f8d39",
   "metadata": {},
   "outputs": [],
   "source": []
  },
  {
   "cell_type": "raw",
   "id": "9bdda2bd",
   "metadata": {},
   "source": [
    "5. Does a batch normalization layer have any trainable parameters?"
   ]
  },
  {
   "cell_type": "raw",
   "id": "41716e06",
   "metadata": {},
   "source": [
    "ans:Yes, a batch normalization layer has trainable parameters. These parameters are the mean and variance of the input layer, which are used to calculate the batch normalization parameters. Additionally, the gamma and beta parameters of the batch normalization layer are also trainable."
   ]
  },
  {
   "cell_type": "code",
   "execution_count": null,
   "id": "871cc79d",
   "metadata": {},
   "outputs": [],
   "source": []
  },
  {
   "cell_type": "raw",
   "id": "e983bb62",
   "metadata": {},
   "source": [
    "6. In batch normalization during preparation, what statistics are used to normalize? What\n",
    "about during the validation process?"
   ]
  },
  {
   "cell_type": "raw",
   "id": "2bb7273c",
   "metadata": {},
   "source": [
    "ans:During preparation, batch normalization uses the mean and standard deviation of the batch data to normalize. During the validation process, it uses the mean and standard deviation of the entire dataset to normalize."
   ]
  },
  {
   "cell_type": "code",
   "execution_count": null,
   "id": "578d73f4",
   "metadata": {},
   "outputs": [],
   "source": []
  },
  {
   "cell_type": "raw",
   "id": "39ee5df2",
   "metadata": {},
   "source": [
    "7. Why do batch normalization layers help models generalize better?"
   ]
  },
  {
   "cell_type": "raw",
   "id": "4bfba8c3",
   "metadata": {},
   "source": [
    "ans:Batch normalization layers help models generalize better by normalizing the activations of each layer to have a mean of 0 and a standard deviation of 1. This helps to reduce internal covariate shift, which is when the input to each layer changes as the weights of the model are updated. By normalizing the inputs to each layer, the internal covariate shift is reduced and the model is less sensitive to changes in the weights, leading to better generalization."
   ]
  },
  {
   "cell_type": "code",
   "execution_count": null,
   "id": "e5fbff17",
   "metadata": {},
   "outputs": [],
   "source": []
  },
  {
   "cell_type": "raw",
   "id": "e2f7cffa",
   "metadata": {},
   "source": [
    "8.Explain between MAX POOLING and AVERAGE POOLING is number eight."
   ]
  },
  {
   "cell_type": "raw",
   "id": "ec4f3f93",
   "metadata": {},
   "source": [
    "ans:Max Pooling is a type of pooling operation that takes the maximum value from a certain region of the input image. This operation is useful for finding the most salient features of an image and discarding the less important ones.\n",
    "\n",
    "Average Pooling is a type of pooling operation that takes the average value from a certain region of the input image. This operation is useful for reducing the spatial size of an image while preserving the important features."
   ]
  },
  {
   "cell_type": "code",
   "execution_count": null,
   "id": "aa448c29",
   "metadata": {},
   "outputs": [],
   "source": []
  },
  {
   "cell_type": "raw",
   "id": "974f9103",
   "metadata": {},
   "source": [
    "9. What is the purpose of the POOLING LAYER?"
   ]
  },
  {
   "cell_type": "raw",
   "id": "12a1735e",
   "metadata": {},
   "source": [
    "ans:The pooling layer of a convolutional neural network is used to reduce the spatial size of the representation. It is also used to reduce the number of parameters and computation in the network, which makes it efficient. The most common pooling operation is max pooling, which takes the highest value from each region of the layer to the next layer."
   ]
  },
  {
   "cell_type": "code",
   "execution_count": null,
   "id": "c00404b5",
   "metadata": {},
   "outputs": [],
   "source": []
  },
  {
   "cell_type": "raw",
   "id": "8c753c13",
   "metadata": {},
   "source": [
    "10. Why do we end up with Completely CONNECTED LAYERS?"
   ]
  },
  {
   "cell_type": "raw",
   "id": "acad112f",
   "metadata": {},
   "source": [
    "ans:We end up with completely connected layers because they are the most efficient way to pass information from one layer to the next. Each neuron in one layer is connected to every neuron in the next layer, which allows for the efficient flow of information across the network. This means that each neuron in a layer can pass information to every neuron in the next layer without any missing connections."
   ]
  },
  {
   "cell_type": "code",
   "execution_count": null,
   "id": "bd58f995",
   "metadata": {},
   "outputs": [],
   "source": []
  },
  {
   "cell_type": "raw",
   "id": "69efd3fe",
   "metadata": {},
   "source": [
    "11. What do you mean by PARAMETERS?"
   ]
  },
  {
   "cell_type": "raw",
   "id": "74cab39f",
   "metadata": {},
   "source": [
    "ans:Parameters are values that are used to configure the behavior of a machine learning model. They are typically adjustable values that can be tweaked to improve the accuracy and performance of a model. Parameters are used to control the complexity of a model, the learning rate, and the regularization strength of the model. They are an important component of any machine learning model and can be used to fine-tune a model to its optimal performance."
   ]
  },
  {
   "cell_type": "code",
   "execution_count": null,
   "id": "d41dfe9e",
   "metadata": {},
   "outputs": [],
   "source": []
  },
  {
   "cell_type": "raw",
   "id": "b6a67a01",
   "metadata": {},
   "source": [
    "12. What formulas are used to measure these PARAMETERS?"
   ]
  },
  {
   "cell_type": "raw",
   "id": "d1368239",
   "metadata": {},
   "source": [
    "ans:The formulas used to measure parameters depend on the type of machine learning model being used. For example, in linear models, the parameters are typically measured using the least-squares algorithm. In neural networks, the parameters are typically measured using the backpropagation algorithm. In decision trees, the parameters are measured using the Gini Index or information gain."
   ]
  },
  {
   "cell_type": "code",
   "execution_count": null,
   "id": "c64976e3",
   "metadata": {},
   "outputs": [],
   "source": []
  },
  {
   "cell_type": "code",
   "execution_count": null,
   "id": "ad527382",
   "metadata": {},
   "outputs": [],
   "source": []
  }
 ],
 "metadata": {
  "kernelspec": {
   "display_name": "Python 3",
   "language": "python",
   "name": "python3"
  },
  "language_info": {
   "codemirror_mode": {
    "name": "ipython",
    "version": 3
   },
   "file_extension": ".py",
   "mimetype": "text/x-python",
   "name": "python",
   "nbconvert_exporter": "python",
   "pygments_lexer": "ipython3",
   "version": "3.8.8"
  }
 },
 "nbformat": 4,
 "nbformat_minor": 5
}
